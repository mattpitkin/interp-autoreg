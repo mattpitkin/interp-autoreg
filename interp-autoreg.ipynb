{
 "cells": [
  {
   "cell_type": "code",
   "execution_count": 2,
   "id": "283fe0cc",
   "metadata": {},
   "outputs": [],
   "source": [
    "%matplotlib inline\n",
    "\n",
    "import numpy as np\n",
    "\n",
    "from scipy.linalg import solve_toeplitz\n",
    "from numpy.linalg import solve\n",
    "from jax.numpy.linalg import solve as jsolve"
   ]
  },
  {
   "cell_type": "markdown",
   "id": "8696215f",
   "metadata": {},
   "source": [
    "Let's start with some definitions. We have a time series dataset consisting of $N$ samples:\n",
    "\n",
    "$$\n",
    "\\mathbf{x} = \\{x_1, x_2, \\dots, x_N\\}.\n",
    "$$\n",
    "\n",
    "In the case where we need to perform interpolation, the samples $\\{x_1, \\dots, x_m\\}$ and $\\{x_{m+k+1}, \\dots, x_N\\}$ are known, while there are $k$ missing samples $\\{x_{m+1}, \\dots, x_{m+k}\\}$. We can call the known samples:\n",
    "\n",
    "$$\n",
    "\\mathbf{y} = \\{x_1, \\dots, x_m, x_{m+k+1}, x_N\\},\n",
    "$$\n",
    "\n",
    "and the missing samples:\n",
    "\n",
    "$$\n",
    "\\mathbf{z} = \\{x_{m+1}, \\dots, x_{m+k}\\}.\n",
    "$$\n",
    "\n",
    "The samples are assumed to be produced by some [autoregressive process](https://en.wikipedia.org/wiki/Autoregressive_model) given by:\n",
    "\n",
    "$$\n",
    "x_{i} = \\left(\\sum_{j=1}^{p} \\theta_j x_{i-j}\\right) + e_i, \n",
    "$$\n",
    "\n",
    "where $p$ is the order of the autoregressive mode, $\\theta$ are the parameters that define the model and $e_i$ is some additive (stationary, white, Gaussian) noise.\n",
    "\n",
    "We can put the above equation into vector and matrix form and rearrange to give:\n",
    "\n",
    "$$\n",
    "\\mathbf{e} = \\mathbf{x} - \\mathbf{L}\\mathbf{\\theta},\n",
    "$$\n",
    "\n",
    "where (removing the $p$ initial points from the vector $\\mathbf{x}$, which are required to produce the $(p+1)^{\\rm th}$ point) it could be written in full as:\n",
    "\n",
    "$$\n",
    "\\left[\\begin{array}{c}e_{p+1} \\\\ e_{p+2} \\\\ e_{p+3} \\\\ \\vdots \\\\ e_{N-2} \\\\ e_{N-1} \\\\ e_{N}\\end{array}\\right] = \\left[\\begin{array}{c}x_{p+1} \\\\ x_{p+2} \\\\ x_{p+3} \\\\ \\vdots \\\\ x_{N-2} \\\\ x_{N-1} \\\\ x_{N}\\end{array}\\right] - \n",
    "\\left[\\begin{array}{cccc}\n",
    "x_{p} & x_{p-1} & \\ldots & x_1 \\\\\n",
    "x_{p+1} & x_{p} & \\ldots & x_2 \\\\\n",
    "x_{p+2} & x_{p+1} & \\ldots & x_3 \\\\\n",
    "\\vdots & \\vdots & \\vdots & \\vdots \\\\\n",
    "x_{N-3} & x_{N-4} & \\ldots & x_{N-2-p} \\\\\n",
    "x_{N-2} & x_{N-3} & \\ldots & x_{N-1-p} \\\\\n",
    "x_{N-1} & x_{N-2} & \\ldots & x_{N-p}\n",
    "\\end{array}\\right]\n",
    "\\left[\\begin{array}{c}\\theta_1 \\\\ \\vdots \\\\ \\theta_p\\end{array}\\right]\n",
    "$$\n",
    "\n",
    "Or, alternatively into the form:\n",
    "\n",
    "$$\n",
    "\\mathbf{e} = \\mathbf{K}\\mathbf{x},\n",
    "$$\n",
    "\n",
    "where in this case we assume that the unobserved data prior to $x_1$ is zero and can write:\n",
    "\n",
    "$$\n",
    "\\left[\n",
    "\\begin{array}{c}\n",
    "e_1 \\\\ e_2 \\\\ e_3 \\\\ e_4 \\\\ \\vdots \\\\ e_{N-3} \\\\ e_{N-2} \\\\ e_{N-1} \\\\ e_N \\end{array}\n",
    "\\right] = \n",
    "\\left[\n",
    "\\begin{array}{ccccccccc}\n",
    "1 & 0 & 0 & 0 & \\ldots & 0 & 0 & 0 & 0 \\\\\n",
    "-\\theta_1 & 1 & 0 & 0 & \\ldots & 0 & 0 & 0 & 0 \\\\\n",
    "-\\theta_2 & -\\theta_1 & 1 & 0 & \\ldots & 0 & 0 & 0 & 0 \\\\\n",
    "-\\theta_3 & -\\theta_2 & -\\theta_1 & 1 & \\ldots & 0 & 0 & 0 & 0 \\\\\n",
    "& & & & \\ddots & & & & \\\\\n",
    "0 & 0 & 0 & 0 & \\ldots & 1 & 0 & 0 & 0 \\\\\n",
    "0 & 0 & 0 & 0 & \\ldots & -\\theta_1 & 1 & 0 & 0 \\\\\n",
    "0 & 0 & 0 & 0 & \\ldots & -\\theta_2 & -\\theta_1 & 1 & 0 \\\\\n",
    "0 & 0 & 0 & 0 & \\ldots & -\\theta_3 &-\\theta_2 & -\\theta_1 & 1 \\\\\n",
    "\\end{array}\n",
    "\\right]\n",
    "\\left[\n",
    "\\begin{array}{c}\n",
    "x_1 \\\\ x_2 \\\\ x_3 \\\\ x_4 \\\\ \\vdots \\\\ x_{N-3} \\\\ x_{N-2} \\\\ x_{N-1} \\\\ x_N \\end{array}\n",
    "\\right].\n",
    "$$\n",
    "\n",
    "Here $\\mathbf{K}$ is a [Toeplitz matrix](https://en.wikipedia.org/wiki/Toeplitz_matrix), i.e., all the diagonal's from left to right have the same value.\n",
    "\n",
    "For the Gibbs sampler, we must first draw a set of missing samples $\\mathbf{z}'$. The conditional distribution from which we can draw these is a multivariate Gaussian with an inverse covariance matrix given by:\n",
    "\n",
    "$$\n",
    "\\mathbf{C}^{-1} = \\frac{\\mathbf{D}}{\\sigma^2},\n",
    "$$\n",
    "\n",
    "where $\\sigma$ is an estimate of the standard deviation of the noise in the autoregressive model and $\\mathbf{D}$ is a submatrix of $\\mathbf{K}^T \\mathbf{K}$ corresponding to the missing data vector $z$, i.e., it will be the matrix within $\\mathbf{K}^T \\mathbf{K}$ from rows $m+1 \\rightarrow m+k$ and columns $m+1 \\rightarrow m+k$. The mean of the multivariate Gaussian is given by:\n",
    "\n",
    "$$\n",
    "\\mu = -\\mathbf{D}^{-1}\\mathbf{B}^T\\mathbf{y},\n",
    "$$\n",
    "\n",
    "where $\\mathbf{B}$ is composed of the submatrices of $\\mathbf{K}^T \\mathbf{K}$ corresponding to the columns $m+1 \\rightarrow m+k$ and the rows from $1 \\rightarrow m$ and $m + k + 1 \\rightarrow N$."
   ]
  },
  {
   "cell_type": "code",
   "execution_count": 73,
   "id": "0bc30cc2",
   "metadata": {},
   "outputs": [],
   "source": [
    "from scipy.linalg import toeplitz\n",
    "\n",
    "def Kmatrix(theta, N):\n",
    "    \"\"\"\n",
    "    Function to create the NxN Toeplitz array K.\n",
    "    \n",
    "    Parameters\n",
    "    ----------\n",
    "    theta: array_like\n",
    "        The set of autorgression parameters.\n",
    "    N: int\n",
    "        The length of the data set.\n",
    "    \n",
    "    Returns\n",
    "    -------\n",
    "    K: ndarray\n",
    "        The NxN Toeplitz array\n",
    "    \"\"\"\n",
    "    \n",
    "    # create top row\n",
    "    r = np.zeros(N)\n",
    "    r[0] = 1.0\n",
    "    \n",
    "    # create first column\n",
    "    c = np.zeros(N)\n",
    "    c[0] = 1.0\n",
    "    c[1:len(theta) + 1] = theta\n",
    "    \n",
    "    return toeplitz(c, r=r)\n",
    "\n",
    "\n",
    "def Dmatrix(ktk, m, k):\n",
    "    \"\"\"\n",
    "    Get the submatrix of ktk corresponding to the rows and columns\n",
    "    from m to m+k.\n",
    "    \"\"\"\n",
    "    \n",
    "    return ktk[m:m + k, m:m + k]\n",
    "\n",
    "\n",
    "def Bmatrix(ktk, m, k):\n",
    "    \"\"\"\n",
    "    Get the submatrix of ktk corresponing to the columns from m to\n",
    "    m+k and the rows 1 to m and m+k to N where N is the height of\n",
    "    the array.\n",
    "    \"\"\"\n",
    "    \n",
    "    return np.hstack((ktk[m:m + k, :m], ktk[m:m + k, m+k:])).T\n",
    "\n",
    "\n",
    "def draw_missing_data(theta, sigma, y, m, k, rng=None):\n",
    "    \"\"\"\n",
    "    Draw the missing data from the conditional distribution based\n",
    "    on estimates of the autoregressive parameters and the noise.\n",
    "    \n",
    "    Parameters\n",
    "    ----------\n",
    "    theta: array_like\n",
    "        The set of p autoregressive parameters\n",
    "    sigma: float\n",
    "        The noise standard deviation\n",
    "    y: array_like\n",
    "        The observed data.\n",
    "    m: int\n",
    "        The index giving the start of the missing samples (starting\n",
    "        from 1).\n",
    "    k: int\n",
    "        The number of missing samples\n",
    "    rng: default_rng\n",
    "        The Numpy default random number generator\n",
    "        \n",
    "    Returns\n",
    "    -------\n",
    "    z: array_like\n",
    "        An set of k missing samples.\n",
    "    \"\"\"\n",
    "    \n",
    "    # total length of data\n",
    "    N = len(y) + k\n",
    "    \n",
    "    # create K matrix\n",
    "    K = Kmatrix(theta, N)\n",
    "    \n",
    "    # calculate K^T K\n",
    "    KTK = np.dot(K.T, K)\n",
    "    \n",
    "    # get the B and D submatrices of KTK\n",
    "    B = Bmatrix(KTK, m, k)\n",
    "    D = Dmatrix(KTK, m, k)\n",
    "    \n",
    "    # get the covariance matrix of the multivariate Gaussian\n",
    "    cov = np.linalg.inv(D / sigma ** 2)\n",
    "    \n",
    "    # get the mean of the multivariate Gaussian\n",
    "    mu = -np.dot(np.linalg.inv(D), np.dot(B.T, y))\n",
    "    \n",
    "    if rng is None:\n",
    "        rng = np.random.default_rng()\n",
    "    \n",
    "    return rng.multivariate_normal(mu, cov, method=\"cholesky\")"
   ]
  },
  {
   "cell_type": "code",
   "execution_count": 74,
   "id": "cfdbc17f",
   "metadata": {},
   "outputs": [
    {
     "data": {
      "text/plain": [
       "array([-0.69088435,  1.06376234, -0.11178913,  0.3638735 , -0.67003659])"
      ]
     },
     "execution_count": 74,
     "metadata": {},
     "output_type": "execute_result"
    }
   ],
   "source": [
    "y = np.random.randn(20)\n",
    "theta = [-0.3, 0.2, 0.5]\n",
    "k = 5\n",
    "m = 7\n",
    "sigma = 1.0\n",
    "\n",
    "z = draw_missing_data(theta, sigma, y, m, k)\n",
    "z"
   ]
  },
  {
   "cell_type": "code",
   "execution_count": 60,
   "id": "4d9ad071",
   "metadata": {},
   "outputs": [],
   "source": [
    "m = 2  # number of points before missing data\n",
    "k = 3  # number of missing data points\n",
    "\n",
    "B = Bmatrix(KTK, m, k)\n",
    "D = Dmatrix(KTK, m, k)"
   ]
  },
  {
   "cell_type": "code",
   "execution_count": 62,
   "id": "561529d5",
   "metadata": {},
   "outputs": [
    {
     "data": {
      "text/plain": [
       "array([[ 0.6673932 , -0.00563904, -0.20217201],\n",
       "       [-0.00563904,  0.60619731, -0.00563904],\n",
       "       [-0.20217201, -0.00563904,  0.6673932 ]])"
      ]
     },
     "execution_count": 62,
     "metadata": {},
     "output_type": "execute_result"
    }
   ],
   "source": [
    "np.linalg.inv(D)"
   ]
  },
  {
   "cell_type": "code",
   "execution_count": 61,
   "id": "a61e6744",
   "metadata": {},
   "outputs": [
    {
     "data": {
      "text/plain": [
       "array([[ 0.5 , -0.5 ,  0.  ],\n",
       "       [ 0.02,  0.5 , -0.5 ],\n",
       "       [-0.5 ,  0.5 ,  0.02],\n",
       "       [ 0.  , -0.5 ,  0.5 ],\n",
       "       [ 0.  ,  0.  , -0.5 ],\n",
       "       [ 0.  ,  0.  ,  0.  ]])"
      ]
     },
     "execution_count": 61,
     "metadata": {},
     "output_type": "execute_result"
    }
   ],
   "source": [
    "B"
   ]
  },
  {
   "cell_type": "code",
   "execution_count": 20,
   "id": "0e510518",
   "metadata": {},
   "outputs": [
    {
     "name": "stdout",
     "output_type": "stream",
     "text": [
      "16.3 µs ± 153 ns per loop (mean ± std. dev. of 7 runs, 100,000 loops each)\n"
     ]
    }
   ],
   "source": [
    "c = y[:, 0]\n",
    "r = y[0]\n",
    "cr = (c, r)\n",
    "%timeit solve_toeplitz(cr, x)"
   ]
  },
  {
   "cell_type": "code",
   "execution_count": 16,
   "id": "dbab84da",
   "metadata": {},
   "outputs": [
    {
     "name": "stdout",
     "output_type": "stream",
     "text": [
      "5.85 µs ± 21.2 ns per loop (mean ± std. dev. of 7 runs, 100,000 loops each)\n"
     ]
    }
   ],
   "source": [
    "%timeit jsolve(y, x)"
   ]
  },
  {
   "cell_type": "code",
   "execution_count": 22,
   "id": "c24e3b96",
   "metadata": {},
   "outputs": [],
   "source": [
    "K = np.array(\n",
    "    [\n",
    "        [1, 0, 0, 0, 0, 0, 0, 0],\n",
    "        [-0.2, 1, 0, 0, 0, 0, 0, 0],\n",
    "        [0.3, -0.2, 1, 0, 0, 0, 0, 0],\n",
    "        [0, 0.3, -0.2, 1, 0, 0, 0, 0],\n",
    "        [0, 0, 0.3, -0.2, 1, 0, 0, 0],\n",
    "        [0, 0, 0, 0.3, -0.2, 1, 0, 0],\n",
    "        [0, 0, 0, 0, 0.3, -0.2, 1, 0],\n",
    "        [0, 0, 0, 0, 0, 0.3, -0.2, 1]\n",
    "    ]\n",
    ")"
   ]
  },
  {
   "cell_type": "code",
   "execution_count": 24,
   "id": "92f78891",
   "metadata": {},
   "outputs": [],
   "source": [
    "l = np.dot(K.T, K)"
   ]
  },
  {
   "cell_type": "code",
   "execution_count": 34,
   "id": "155cfcf1",
   "metadata": {},
   "outputs": [],
   "source": [
    "c = l[:, 0]\n",
    "r = l[0]"
   ]
  },
  {
   "cell_type": "code",
   "execution_count": 27,
   "id": "da6817bd",
   "metadata": {},
   "outputs": [],
   "source": [
    "y = np.random.rand(8)"
   ]
  },
  {
   "cell_type": "code",
   "execution_count": 37,
   "id": "fabad1f5",
   "metadata": {},
   "outputs": [
    {
     "name": "stdout",
     "output_type": "stream",
     "text": [
      "4.22 µs ± 11.2 ns per loop (mean ± std. dev. of 7 runs, 100,000 loops each)\n"
     ]
    }
   ],
   "source": [
    "%timeit solve(l, y)"
   ]
  },
  {
   "cell_type": "code",
   "execution_count": 36,
   "id": "21d9f1bf",
   "metadata": {},
   "outputs": [
    {
     "name": "stdout",
     "output_type": "stream",
     "text": [
      "20.7 µs ± 324 ns per loop (mean ± std. dev. of 7 runs, 10,000 loops each)\n"
     ]
    }
   ],
   "source": [
    "%timeit solve_toeplitz(c, y)"
   ]
  },
  {
   "cell_type": "code",
   "execution_count": null,
   "id": "7a158af9",
   "metadata": {},
   "outputs": [],
   "source": []
  }
 ],
 "metadata": {
  "kernelspec": {
   "display_name": "Python 3 (ipykernel)",
   "language": "python",
   "name": "python3"
  },
  "language_info": {
   "codemirror_mode": {
    "name": "ipython",
    "version": 3
   },
   "file_extension": ".py",
   "mimetype": "text/x-python",
   "name": "python",
   "nbconvert_exporter": "python",
   "pygments_lexer": "ipython3",
   "version": "3.9.13"
  }
 },
 "nbformat": 4,
 "nbformat_minor": 5
}
